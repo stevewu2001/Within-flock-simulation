{
 "cells": [
  {
   "cell_type": "code",
   "execution_count": 1,
   "id": "493d8fb1-bf87-4f6c-9a74-0e70abb101cf",
   "metadata": {},
   "outputs": [],
   "source": [
    "import numpy as np\n",
    "import matplotlib.pyplot as plt\n",
    "from decimal import Decimal # used to round the numbers so they look pretty"
   ]
  },
  {
   "cell_type": "markdown",
   "id": "3f1b0756-6dd1-45e9-94ab-2340c9c7de90",
   "metadata": {},
   "source": [
    "Now we consider the case where a flock may have multiple species of birds. We suppose there are `num_flocks` flocks and `num_species` species."
   ]
  },
  {
   "cell_type": "code",
   "execution_count": 2,
   "id": "26995899-4350-4ce2-b527-e3335b3bd55a",
   "metadata": {},
   "outputs": [],
   "source": [
    "# set number of species and flocks\n",
    "num_flocks = 2\n",
    "num_species = 3\n"
   ]
  },
  {
   "cell_type": "code",
   "execution_count": 3,
   "id": "9da59d2b-e378-4801-a066-a0746efc3948",
   "metadata": {},
   "outputs": [
    {
     "data": {
      "text/plain": [
       "array([[[ 99.,   1.,   0.,   0.,   0.,   0.],\n",
       "        [100.,   0.,   0.,   0.,   0.,   0.],\n",
       "        [100.,   0.,   0.,   0.,   0.,   0.]],\n",
       "\n",
       "       [[100.,   0.,   0.,   0.,   0.,   0.],\n",
       "        [100.,   0.,   0.,   0.,   0.,   0.],\n",
       "        [100.,   0.,   0.,   0.,   0.,   0.]]])"
      ]
     },
     "execution_count": 3,
     "metadata": {},
     "output_type": "execute_result"
    }
   ],
   "source": [
    "# set initial conditions \n",
    "\n",
    "# the following convention will be used: first dimension will represent which flock, second is which species, third is the compartment.\n",
    "init_val = np.zeros((num_flocks, num_species, 6)) # Six possible compartment: S, E_S, E_A, I_S, I_A, R\n",
    "\n",
    "# first let all birds to start susceptible, also choose population size here.\n",
    "init_val[:,:,0] += 100 # 100 birds per flock per species, can be changed\n",
    "\n",
    "# then choose a bird to be exposed (symptomatic), here we assume it to be the first species in the first flock.\n",
    "init_val[0,0,0] -= 1\n",
    "init_val[0,0,1] += 1\n",
    "\n",
    "init_val"
   ]
  },
  {
   "cell_type": "code",
   "execution_count": 4,
   "id": "364b2538-7ba3-47cd-a8b3-8bc77ab8a815",
   "metadata": {},
   "outputs": [],
   "source": [
    "# this is the maximum number of events that would occur, typically the number will not be reached, but \n",
    "# for diseases that does not die out this is necessary to not fall into an infinite while loop.\n",
    "max_events = 500000\n",
    "\n",
    "# set the time and state sequence\n",
    "t = [0] + [None] * max_events\n",
    "y = [init_val] + [None] * max_events\n"
   ]
  },
  {
   "cell_type": "markdown",
   "id": "89dd93d6-222e-47a5-9342-0421d700b213",
   "metadata": {},
   "source": [
    "We consider each of the parameter: firstly the infection rate (from symptomatic birds). The $(a,b,c,d)$-th entry of the 4-rank tensor `beta_S` means \"the infection rate from a symptomatic infectious bird in flock $a$ species $b$, to flock $c$ species $d$\"."
   ]
  },
  {
   "cell_type": "code",
   "execution_count": 5,
   "id": "3cae7b55-15db-4dbe-9403-73a18f97cda5",
   "metadata": {},
   "outputs": [],
   "source": [
    "# initialise the infection rate tensor\n",
    "beta_S = np.zeros((num_flocks, num_species, num_flocks, num_species))\n",
    "\n",
    "# insert some values, can be changed\n",
    "for a in range(num_flocks):\n",
    "    for b in range(num_species):\n",
    "        for c in range(num_flocks):\n",
    "            for d in range(num_species):\n",
    "                if a == c and b == d:\n",
    "                    beta_S[a,b,c,d] = 4\n",
    "                elif a == c and b != d:\n",
    "                    beta_S[a,b,c,d] = 3.5\n",
    "                elif a != c and b == d:\n",
    "                    beta_S[a,b,c,d] = 1.5\n",
    "                else:\n",
    "                    beta_S[a,b,c,d] = 1.2\n"
   ]
  },
  {
   "cell_type": "markdown",
   "id": "b2111ece-ce93-4b98-911e-b74729bc9bd6",
   "metadata": {},
   "source": [
    "Same idea applies to asymptomatic birds."
   ]
  },
  {
   "cell_type": "code",
   "execution_count": 6,
   "id": "e6b86b61-5f6c-42cb-ba93-7e3a40f21fed",
   "metadata": {},
   "outputs": [],
   "source": [
    "# initialise the infection rate tensor\n",
    "beta_A = np.zeros((num_flocks, num_species, num_flocks, num_species))\n",
    "\n",
    "# insert some values, can be changed\n",
    "for a in range(num_flocks):\n",
    "    for b in range(num_species):\n",
    "        for c in range(num_flocks):\n",
    "            for d in range(num_species):\n",
    "                if a == c and b == d:\n",
    "                    beta_A[a,b,c,d] = 2\n",
    "                elif a == c and b != d:\n",
    "                    beta_A[a,b,c,d] = 1.8\n",
    "                elif a != c and b == d:\n",
    "                    beta_A[a,b,c,d] = 1\n",
    "                else:\n",
    "                    beta_A[a,b,c,d] = 0.8\n"
   ]
  },
  {
   "cell_type": "markdown",
   "id": "9142485b-3eef-4019-a5b3-1d4d4b139b42",
   "metadata": {},
   "source": [
    "Now consider the latency and infectious period, probability of symptom display."
   ]
  },
  {
   "cell_type": "code",
   "execution_count": 10,
   "id": "56be3c8a-6b60-4954-857f-5050a00b1470",
   "metadata": {},
   "outputs": [],
   "source": [
    "# latency and infectious period\n",
    "latency_period_S = 1 * np.ones(num_species)\n",
    "sigma_S = np.ones(num_species) / latency_period_S\n",
    "latency_period_A = 0.5 * np.ones(num_species)\n",
    "sigma_A = np.ones(num_species) / latency_period_A\n",
    "\n",
    "infectious_period_S = 4 * np.ones(num_species)\n",
    "gamma_S = np.ones(num_species) / infectious_period_S\n",
    "infectious_period_A = 2 * np.ones(num_species)\n",
    "gamma_A = np.ones(num_species) / infectious_period_A\n",
    "\n",
    "# probability of displaying symptoms.\n",
    "p_S = np.array([0.8] * num_species)\n",
    "p_A = np.ones(num_species) - p_S"
   ]
  },
  {
   "cell_type": "markdown",
   "id": "4f6131cf-4d83-4ea6-83b3-1f879ec1322e",
   "metadata": {},
   "source": [
    "Gillespie... to be continued"
   ]
  },
  {
   "cell_type": "code",
   "execution_count": null,
   "id": "b3c6cf6b-3ab8-48b6-a093-17e9bed1a00d",
   "metadata": {},
   "outputs": [],
   "source": []
  }
 ],
 "metadata": {
  "kernelspec": {
   "display_name": "Python 3 (ipykernel)",
   "language": "python",
   "name": "python3"
  },
  "language_info": {
   "codemirror_mode": {
    "name": "ipython",
    "version": 3
   },
   "file_extension": ".py",
   "mimetype": "text/x-python",
   "name": "python",
   "nbconvert_exporter": "python",
   "pygments_lexer": "ipython3",
   "version": "3.11.9"
  }
 },
 "nbformat": 4,
 "nbformat_minor": 5
}
