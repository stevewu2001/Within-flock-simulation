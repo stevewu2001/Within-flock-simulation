{
 "cells": [
  {
   "cell_type": "markdown",
   "metadata": {},
   "source": []
  },
  {
   "cell_type": "code",
   "execution_count": 26,
   "metadata": {},
   "outputs": [
    {
     "ename": "ValueError",
     "evalue": "operand has more dimensions than subscripts given in einstein sum, but no '...' ellipsis provided to broadcast the extra dimensions.",
     "output_type": "error",
     "traceback": [
      "\u001b[0;31m---------------------------------------------------------------------------\u001b[0m",
      "\u001b[0;31mValueError\u001b[0m                                Traceback (most recent call last)",
      "Cell \u001b[0;32mIn[26], line 28\u001b[0m\n\u001b[1;32m     24\u001b[0m I_asym_reshaped \u001b[38;5;241m=\u001b[39m I_asym[:, :, np\u001b[38;5;241m.\u001b[39mnewaxis, np\u001b[38;5;241m.\u001b[39mnewaxis]  \u001b[38;5;66;03m# shape (num_flocks, num_types, 1, 1)\u001b[39;00m\n\u001b[1;32m     26\u001b[0m \u001b[38;5;66;03m# Compute the infection pressure using einsum\u001b[39;00m\n\u001b[1;32m     27\u001b[0m \u001b[38;5;66;03m# This sums over the source flock and species dimensions (i and j)\u001b[39;00m\n\u001b[0;32m---> 28\u001b[0m infection_pressure_sym \u001b[38;5;241m=\u001b[39m np\u001b[38;5;241m.\u001b[39meinsum(\u001b[38;5;124m'\u001b[39m\u001b[38;5;124mij,ijab->ab\u001b[39m\u001b[38;5;124m'\u001b[39m, I_sym_reshaped, beta_sym)\n\u001b[1;32m     29\u001b[0m infection_pressure_asym \u001b[38;5;241m=\u001b[39m np\u001b[38;5;241m.\u001b[39meinsum(\u001b[38;5;124m'\u001b[39m\u001b[38;5;124mij,ijab->ab\u001b[39m\u001b[38;5;124m'\u001b[39m, I_asym_reshaped, beta_asym)\n\u001b[1;32m     31\u001b[0m \u001b[38;5;66;03m# Combine the infection pressure\u001b[39;00m\n",
      "File \u001b[0;32m~/anaconda3/envs/learning_conda/lib/python3.11/site-packages/numpy/core/einsumfunc.py:1371\u001b[0m, in \u001b[0;36meinsum\u001b[0;34m(out, optimize, *operands, **kwargs)\u001b[0m\n\u001b[1;32m   1369\u001b[0m     \u001b[38;5;28;01mif\u001b[39;00m specified_out:\n\u001b[1;32m   1370\u001b[0m         kwargs[\u001b[38;5;124m'\u001b[39m\u001b[38;5;124mout\u001b[39m\u001b[38;5;124m'\u001b[39m] \u001b[38;5;241m=\u001b[39m out\n\u001b[0;32m-> 1371\u001b[0m     \u001b[38;5;28;01mreturn\u001b[39;00m c_einsum(\u001b[38;5;241m*\u001b[39moperands, \u001b[38;5;241m*\u001b[39m\u001b[38;5;241m*\u001b[39mkwargs)\n\u001b[1;32m   1373\u001b[0m \u001b[38;5;66;03m# Check the kwargs to avoid a more cryptic error later, without having to\u001b[39;00m\n\u001b[1;32m   1374\u001b[0m \u001b[38;5;66;03m# repeat default values here\u001b[39;00m\n\u001b[1;32m   1375\u001b[0m valid_einsum_kwargs \u001b[38;5;241m=\u001b[39m [\u001b[38;5;124m'\u001b[39m\u001b[38;5;124mdtype\u001b[39m\u001b[38;5;124m'\u001b[39m, \u001b[38;5;124m'\u001b[39m\u001b[38;5;124morder\u001b[39m\u001b[38;5;124m'\u001b[39m, \u001b[38;5;124m'\u001b[39m\u001b[38;5;124mcasting\u001b[39m\u001b[38;5;124m'\u001b[39m]\n",
      "\u001b[0;31mValueError\u001b[0m: operand has more dimensions than subscripts given in einstein sum, but no '...' ellipsis provided to broadcast the extra dimensions."
     ]
    }
   ],
   "source": [
    "import numpy as np\n",
    "\n",
    "# Setup example data\n",
    "num_flocks = 2\n",
    "num_types = 2\n",
    "\n",
    "S = np.array([[100, 150], [120, 130]])  # Susceptible population\n",
    "I_sym = np.array([[30, 40], [20, 25]])  # Symptomatic infections\n",
    "I_asym = np.array([[10, 15], [12, 14]])  # Asymptomatic infections\n",
    "\n",
    "# Infection rates for symptomatic and asymptomatic cases\n",
    "beta_sym = np.array([[[0.01, 0.02], [0.03, 0.04]], \n",
    "                     [[0.05, 0.06], [0.07, 0.08]]])\n",
    "beta_asym = np.array([[[0.005, 0.01], [0.015, 0.02]], \n",
    "                      [[0.025, 0.03], [0.035, 0.04]]])\n",
    "\n",
    "# Probabilities for symptomatic and asymptomatic transitions\n",
    "p_sym = np.array([0.9, 0.8])\n",
    "p_asym = np.array([0.7, 0.6])\n",
    "\n",
    "# To correctly perform einsum, we must match the dimensions\n",
    "# Reshape I_sym to 4D to match beta_sym\n",
    "I_sym_reshaped = I_sym[:, :, np.newaxis, np.newaxis]  # shape (num_flocks, num_types, 1, 1)\n",
    "I_asym_reshaped = I_asym[:, :, np.newaxis, np.newaxis]  # shape (num_flocks, num_types, 1, 1)\n",
    "\n",
    "# Compute the infection pressure using einsum\n",
    "# This sums over the source flock and species dimensions (i and j)\n",
    "infection_pressure_sym = np.einsum('ij,ijab->ab', I_sym_reshaped, beta_sym)\n",
    "infection_pressure_asym = np.einsum('ij,ijab->ab', I_asym_reshaped, beta_asym)\n",
    "\n",
    "# Combine the infection pressure\n",
    "infection_pressure = infection_pressure_sym + infection_pressure_asym\n",
    "\n",
    "print(\"Infection pressure:\")\n",
    "print(infection_pressure)\n",
    "\n"
   ]
  }
 ],
 "metadata": {
  "kernelspec": {
   "display_name": "learning_conda",
   "language": "python",
   "name": "python3"
  },
  "language_info": {
   "codemirror_mode": {
    "name": "ipython",
    "version": 3
   },
   "file_extension": ".py",
   "mimetype": "text/x-python",
   "name": "python",
   "nbconvert_exporter": "python",
   "pygments_lexer": "ipython3",
   "version": "3.11.10"
  }
 },
 "nbformat": 4,
 "nbformat_minor": 2
}
