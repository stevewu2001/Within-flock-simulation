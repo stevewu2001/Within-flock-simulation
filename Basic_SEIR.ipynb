{
 "cells": [
  {
   "cell_type": "code",
   "execution_count": null,
   "id": "bb3f5ec5-c75c-4835-8ba5-8a29b998f39b",
   "metadata": {
    "tags": []
   },
   "outputs": [],
   "source": [
    "import numpy as np\n",
    "import matplotlib.pyplot as plt\n",
    "from decimal import Decimal"
   ]
  },
  {
   "cell_type": "markdown",
   "id": "286948b0-849c-4e44-b34d-c5c7cfdec0ab",
   "metadata": {
    "tags": []
   },
   "source": [
    "We consider a within-flock SEIR model with $n$ species. First we set the number of flocks in consideration and the population size in each flock."
   ]
  },
  {
   "cell_type": "code",
   "execution_count": null,
   "id": "2f23be68-a57d-4540-bdbf-7cd13071bf6a",
   "metadata": {
    "tags": []
   },
   "outputs": [],
   "source": [
    "# set number of species and population size\n",
    "\n",
    "num_species = 1 # Number of flocks\n",
    "tot_popul = [500] * num_species # Population size for each flock as a list\n"
   ]
  },
  {
   "cell_type": "markdown",
   "id": "8fd509fb-efbf-4878-b005-a6a7fbb59006",
   "metadata": {},
   "source": [
    "Set Initial conditions:"
   ]
  },
  {
   "cell_type": "code",
   "execution_count": null,
   "id": "b268b856-1318-4bae-967a-7353b90081cf",
   "metadata": {
    "tags": []
   },
   "outputs": [],
   "source": [
    "# set initial conditions, row represents which species, column represents S, E, I, or R\n",
    "\n",
    "# set size of matrix\n",
    "init_val = np.zeros((num_species, 4)) \n",
    "\n",
    "# first set initial population to be all susceptible\n",
    "init_val[:, 0] = tot_popul\n",
    "    \n",
    "# then let species 0 have one exposed\n",
    "init_val[0, 0] -= 1\n",
    "init_val[0, 1] += 1\n"
   ]
  },
  {
   "cell_type": "code",
   "execution_count": null,
   "id": "44a538cf-0dd4-458e-a9ad-80d49afb13a8",
   "metadata": {
    "tags": []
   },
   "outputs": [],
   "source": [
    "# set the time and state sequence\n",
    "max_events = 500000\n",
    "t = [0] + [None] * max_events\n",
    "y = [init_val] + [None] * max_events\n"
   ]
  },
  {
   "cell_type": "markdown",
   "id": "7fa48d56-c941-4613-b69d-f9a421a162dd",
   "metadata": {},
   "source": [
    "Parameters:"
   ]
  },
  {
   "cell_type": "code",
   "execution_count": null,
   "id": "88e382ec-5adc-4d12-a2a2-5912a5234971",
   "metadata": {
    "tags": []
   },
   "outputs": [],
   "source": [
    "# set parameters\n",
    "\n",
    "# infection rate \n",
    "within_flock = 2\n",
    "between_flock = 0.001\n",
    "beta = np.diag([within_flock - between_flock] * num_species) + np.ones((num_species, num_species)) * between_flock # how ROW i infects COLUMN j\n",
    "\n",
    "# latency and infectious period\n",
    "latency_period = 1\n",
    "sigma = np.ones(num_species) / latency_period\n",
    "infectious_period = 4\n",
    "gamma = np.ones(num_species) / infectious_period\n"
   ]
  },
  {
   "cell_type": "markdown",
   "id": "2ebd0783-bcc4-4da7-b3d6-68ea02b59e70",
   "metadata": {},
   "source": [
    "Gillespie algorithm to generate output:"
   ]
  },
  {
   "cell_type": "code",
   "execution_count": null,
   "id": "eee3d5c2-9473-4ba0-8c38-7f4f8f905315",
   "metadata": {},
   "outputs": [],
   "source": [
    "# run Gillespie\n",
    "\n",
    "num_event = 0\n",
    "current_val = init_val.copy()\n",
    "\n",
    "while (num_event < max_events) and (np.sum(current_val[:,1:3]) > 0):\n",
    "     \n",
    "    num_event += 1\n",
    "\n",
    "    # create an event matrix\n",
    "\n",
    "    all_events = np.zeros((num_species, 3))\n",
    "    all_events[:, 0] = np.multiply((current_val[:, 2] / tot_popul) @ beta, current_val[:, 0])\n",
    "    all_events[:, 1] = np.multiply(sigma, current_val[:, 1]) \n",
    "    all_events[:, 2] = np.multiply(gamma, current_val[:, 2])\n",
    "    \n",
    "    tot_rate = np.sum(all_events)\n",
    "    \n",
    "    # do a time leap\n",
    "    \n",
    "    r1 = np.random.uniform()\n",
    "    t[num_event] = t[num_event-1] - np.log(r1) / tot_rate\n",
    "    \n",
    "    # then choose events, first choose the type of events (S to E, E to I, or I to R)\n",
    "    \n",
    "    r2 = np.random.uniform()\n",
    "    \n",
    "    if r2 < np.sum(all_events[:, 0]) / tot_rate:\n",
    "        type_event = 0\n",
    "    elif r2 < np.sum(all_events[:, 0:2]) / tot_rate:\n",
    "        type_event = 1\n",
    "    else:\n",
    "        type_event = 2\n",
    "    \n",
    "        \n",
    "    # then choose which species gets updated\n",
    "    \n",
    "    r3 = np.random.uniform()\n",
    "    spec_event_rate = np.sum(all_events[:, type_event])\n",
    "    for i in range(num_species):\n",
    "        if r3 < np.sum(all_events[0:i+1, type_event]) / spec_event_rate:\n",
    "            current_val[i, type_event] -= 1\n",
    "            current_val[i, type_event+1] += 1\n",
    "            break\n",
    "    \n",
    "    y[num_event] = current_val.copy()\n",
    "\n",
    "\n",
    "# get rid of none value if there is any:\n",
    "t = np.array(t[0:num_event+1])\n",
    "y = np.array(y[0:num_event+1])\n",
    "\n"
   ]
  },
  {
   "cell_type": "markdown",
   "id": "5ce2dd5a-a375-4eaf-afd6-2e8687edf795",
   "metadata": {},
   "source": [
    "Plot the output:"
   ]
  },
  {
   "cell_type": "code",
   "execution_count": null,
   "id": "4d2ce481-0371-48e4-8867-d1c558f10785",
   "metadata": {
    "tags": []
   },
   "outputs": [],
   "source": [
    "fig, axs = plt.subplots(num_species, 1, figsize=(10, 5*num_species))\n",
    "\n",
    "if num_species == 1:\n",
    "    axs = [axs]  # ensure axs is always iterable\n",
    "\n",
    "for i, ax in enumerate(axs):\n",
    "    # plot for bird i\n",
    "    ax.plot(t, y[:, i, 0], label='susceptible')\n",
    "    ax.plot(t, y[:, i, 1], label='exposed')\n",
    "    ax.plot(t, y[:, i, 2], label='infectious')\n",
    "    ax.plot(t, y[:, i, 3], label='removed')\n",
    "    ax.legend()\n",
    "    ax.set_xlabel('time (days)')\n",
    "    ax.set_ylabel('bird population')\n",
    "    ax.set_title(f'Infection dynamics for flock {i}')\n",
    "\n",
    "plt.tight_layout()\n",
    "plt.show()"
   ]
  },
  {
   "cell_type": "markdown",
   "id": "8dd99ea3-bdc5-45a0-9f86-c4f28d6bd219",
   "metadata": {},
   "source": [
    "Record key statistics:\n",
    "- Whether an outbreak has occurred (Infectious population >= 10 at any point, both the population as a whole and individual flocks).\n",
    "- Time of outbreak occurrence if there is an outbreak.\n",
    "- The peak size of the epidemic, and when it occurred (both the population as a whole and individual flocks).\n",
    "- The final size of the epidemic, and when it finished."
   ]
  },
  {
   "cell_type": "code",
   "execution_count": null,
   "id": "623d8c52-ac85-4305-8303-03a772373986",
   "metadata": {},
   "outputs": [],
   "source": [
    "# Record key statistics\n",
    "\n",
    "######## Outbreak statistics ########\n",
    "outbreak_threshold = 10\n",
    "\n",
    "# Outbreak or not\n",
    "outbreak = len([state for state in y if np.sum(state[:,2]) >= outbreak_threshold]) > 0\n",
    "outbreak = round(Decimal(outbreak), 2)\n",
    "\n",
    "# if there is an outbreak, when does it happen\n",
    "if outbreak:\n",
    "    outbreak_time = t[[i for i, state in enumerate(y) if np.sum(state[:,2]) >= outbreak_threshold][0]]\n",
    "    outbreak_time = round(Decimal(outbreak_time), 2)\n",
    "    print(f'An outbreak has occurred, and it happened on {outbreak_time} days after the first exposure.')\n",
    "else:\n",
    "    outbreak_time = None\n",
    "    print('An outbreak did not occur.')\n",
    "\n",
    "# Which flocks are invaded by the virus\n",
    "outbreak_indiv = [len([state for state in y if state[i,2] >= outbreak_threshold]) > 0 for i in range(num_species)]\n",
    "outbreak_time_indiv = [t[[j for j, state in enumerate(y) if np.sum(state[i,2]) >= outbreak_threshold][0]] if outbreak_indiv[i] else None for i in range(num_species)]\n",
    "outbreak_time_indiv = [round(Decimal(i), 2) if i != None else None for i in outbreak_time_indiv]\n",
    "\n",
    "for i in range(num_species):\n",
    "    if outbreak_indiv[i]:\n",
    "        print(f'An outbreak in flock {i} occurred after {outbreak_time_indiv[i]} days')\n",
    "    else:\n",
    "        print(f'Outbreak did not occur in flock {i}')"
   ]
  },
  {
   "cell_type": "code",
   "execution_count": null,
   "id": "b7720aa7-2a67-4857-9841-da099cd8a16b",
   "metadata": {},
   "outputs": [],
   "source": [
    "######## Peak size for all flocks as a whole ########\n",
    "peak_size_whole = int(np.max([np.sum(state[:,2]) for state in y]))\n",
    "peak_time_whole = t[np.argmax([np.sum(state[:,2]) for state in y])]\n",
    "peak_time_whole = round(Decimal(peak_time_whole), 2)\n",
    "\n",
    "print(f'The peak of the epidemic occurred after {peak_time_whole} days, with the total peak size {peak_size_whole}.')\n",
    "\n",
    "######## Individual peak size ########\n",
    "peak_size_indiv = np.amax([state[:,2] for state in y], axis=0)\n",
    "peak_size_indiv = [int(i) for i in peak_size_indiv]\n",
    "\n",
    "peak_time_indiv = [round(Decimal(t[i]), 2) for i in np.argmax([state[:,2] for state in y], axis=0)]\n",
    "\n",
    "for i in range(num_species):\n",
    "    print(f'The peak for flock {i} occurred after {peak_time_indiv[i]} days, with the flock peak size {peak_size_indiv[i]}')"
   ]
  },
  {
   "cell_type": "code",
   "execution_count": null,
   "id": "6d7c79e4-55a4-40e5-b259-b562299ad716",
   "metadata": {},
   "outputs": [],
   "source": [
    "######## Final size ########\n",
    "final_size = y[-1][:,-1]\n",
    "final_size = [int(i) for i in final_size]\n",
    "\n",
    "end_time = t[-1]\n",
    "end_time = round(Decimal(end_time), 2)\n",
    "\n",
    "print(f'After {end_time} days:')\n",
    "for i in range(num_species):\n",
    "    print(f'the final number of removed birds in flock {i} is {final_size[i]}.')\n",
    "    "
   ]
  }
 ],
 "metadata": {
  "kernelspec": {
   "display_name": "Python 3 (ipykernel)",
   "language": "python",
   "name": "python3"
  },
  "language_info": {
   "codemirror_mode": {
    "name": "ipython",
    "version": 3
   },
   "file_extension": ".py",
   "mimetype": "text/x-python",
   "name": "python",
   "nbconvert_exporter": "python",
   "pygments_lexer": "ipython3",
   "version": "3.11.9"
  }
 },
 "nbformat": 4,
 "nbformat_minor": 5
}
